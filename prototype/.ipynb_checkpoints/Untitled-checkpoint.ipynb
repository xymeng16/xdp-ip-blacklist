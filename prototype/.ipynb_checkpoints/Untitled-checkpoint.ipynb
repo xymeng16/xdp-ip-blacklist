{
 "cells": [
  {
   "cell_type": "code",
   "execution_count": 3,
   "id": "72ecebef",
   "metadata": {},
   "outputs": [
    {
     "name": "stdout",
     "output_type": "stream",
     "text": [
      "The IP address 2.3.4.6 is not inside the whitelist\n"
     ]
    }
   ],
   "source": [
    "class TrieNode:\n",
    "    def __init__(self):\n",
    "        self.children = {}\n",
    "        self.cidr = None\n",
    "        self.mask = None\n",
    "\n",
    "class IpWhitelistFirewall:\n",
    "    def __init__(self):\n",
    "        self.root = TrieNode()\n",
    "\n",
    "    def add_cidr(self, cidr):\n",
    "        network_address, prefix_length = cidr.split('/')\n",
    "        mask = (1 << 32) - (1 << (32 - int(prefix_length)))\n",
    "        node = self.root\n",
    "        for octet in network_address.split('.'):\n",
    "            if octet not in node.children:\n",
    "                node.children[octet] = TrieNode()\n",
    "            node = node.children[octet]\n",
    "        node.cidr = cidr\n",
    "        node.mask = mask\n",
    "\n",
    "    def is_ip_in_cidrs(self, ip_address_str):\n",
    "        node = self.root\n",
    "        for octet in ip_address_str.split('.'):\n",
    "            if octet not in node.children:\n",
    "                return False\n",
    "            node = node.children[octet]\n",
    "            if node.cidr is not None and (int(ip_address_str) & node.mask == int(node.cidr.split('/')[0]) & node.mask):\n",
    "                return True\n",
    "        return False"
   ]
  },
  {
   "cell_type": "code",
   "execution_count": 4,
   "id": "9d7bec0a",
   "metadata": {},
   "outputs": [
    {
     "data": {
      "text/plain": [
       "False"
      ]
     },
     "execution_count": 4,
     "metadata": {},
     "output_type": "execute_result"
    }
   ],
   "source": [
    "firewall = IpWhitelistFirewall()\n",
    "cidr_list = [\n",
    "    '1.2.3.4/12',\n",
    "    '2.3.4.5/20',\n",
    "    '3.4.5.6/21',\n",
    "    '219.73.32.0/19'\n",
    "    # Add more CIDRs here\n",
    "]\n",
    "for cidr in cidr_list:\n",
    "    firewall.add_cidr(cidr)"
   ]
  },
  {
   "cell_type": "code",
   "execution_count": null,
   "id": "1a15e4ee",
   "metadata": {},
   "outputs": [],
   "source": [
    "firewall.is_ip_in_cidrs('3.4.5.7')"
   ]
  }
 ],
 "metadata": {
  "kernelspec": {
   "display_name": "Python 3 (ipykernel)",
   "language": "python",
   "name": "python3"
  },
  "language_info": {
   "codemirror_mode": {
    "name": "ipython",
    "version": 3
   },
   "file_extension": ".py",
   "mimetype": "text/x-python",
   "name": "python",
   "nbconvert_exporter": "python",
   "pygments_lexer": "ipython3",
   "version": "3.10.9"
  }
 },
 "nbformat": 4,
 "nbformat_minor": 5
}
